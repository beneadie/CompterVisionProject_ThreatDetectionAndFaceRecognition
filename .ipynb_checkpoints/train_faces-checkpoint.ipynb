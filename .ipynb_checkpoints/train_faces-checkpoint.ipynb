{
 "cells": [
  {
   "cell_type": "markdown",
   "id": "56668e72-6986-4e64-b77a-66b09cd0c9ef",
   "metadata": {},
   "source": [
    "### LBH MODEL"
   ]
  },
  {
   "cell_type": "code",
   "execution_count": null,
   "id": "edead208-6e2d-4e0c-9628-67bf508854a9",
   "metadata": {},
   "outputs": [],
   "source": [
    "ls"
   ]
  },
  {
   "cell_type": "code",
   "execution_count": 3,
   "id": "b743409a-fb2c-4d89-b8c8-4fa539700b14",
   "metadata": {},
   "outputs": [
    {
     "name": "stdout",
     "output_type": "stream",
     "text": [
      "LBPH model trained and saved.\n"
     ]
    }
   ],
   "source": [
    "import cv2\n",
    "import os\n",
    "import numpy as np\n",
    "\n",
    "def load_images_and_labels(dataset_path):\n",
    "    images, labels = [], []\n",
    "    label_map = {}\n",
    "    label_counter = 0\n",
    "\n",
    "    for person_name in os.listdir(dataset_path):\n",
    "        person_path = os.path.join(dataset_path, person_name)\n",
    "        if not os.path.isdir(person_path):\n",
    "            continue\n",
    "\n",
    "        if person_name not in label_map:\n",
    "            label_map[person_name] = label_counter\n",
    "            label_counter += 1\n",
    "\n",
    "        label = label_map[person_name]\n",
    "\n",
    "        for image_name in os.listdir(person_path):\n",
    "            image_path = os.path.join(person_path, image_name)\n",
    "            image = cv2.imread(image_path, cv2.IMREAD_GRAYSCALE)\n",
    "            if image is not None:\n",
    "                images.append(image)\n",
    "                labels.append(label)\n",
    "\n",
    "    return images, np.array(labels), label_map\n",
    "\n",
    "# Load dataset\n",
    "dataset_path = \"scrape_youtube/face_images\"\n",
    "images, labels, label_map = load_images_and_labels(dataset_path)\n",
    "\n",
    "# Train LBPH recognizer\n",
    "recognizer = cv2.face.LBPHFaceRecognizer_create()\n",
    "recognizer.train(images, labels)\n",
    "\n",
    "# Save LBPH model\n",
    "recognizer.save(\"lbph_face_recognizer.yml\")\n",
    "print(\"LBPH model trained and saved.\")\n"
   ]
  },
  {
   "cell_type": "code",
   "execution_count": 2,
   "id": "799baadf-c4cc-48e5-86b6-187ac191ec3d",
   "metadata": {},
   "outputs": [
    {
     "name": "stdout",
     "output_type": "stream",
     "text": [
      " Volume in drive C is Windows\n",
      " Volume Serial Number is 78C9-6226\n",
      "\n",
      " Directory of C:\\Users\\User\\Documents\\GitHub\\CompterVisionProject_ThreatDetectionAndFaceRecognition\n",
      "\n",
      "31/12/2024  20:37    <DIR>          .\n",
      "29/12/2024  19:56    <DIR>          ..\n",
      "29/12/2024  18:04                66 .gitattributes\n",
      "31/12/2024  20:35    <DIR>          .ipynb_checkpoints\n",
      "29/12/2024  19:50               869 collect_image_data.py\n",
      "31/12/2024  20:21             1,035 custom_yolo11.py\n",
      "29/12/2024  18:59    <DIR>          CVenv\n",
      "29/12/2024  19:17    <DIR>          Documents\n",
      "30/12/2024  19:05    <DIR>          face_images\n",
      "31/12/2024  20:17             2,179 main.py\n",
      "31/12/2024  16:47    <DIR>          masks_hoods_custom_model_1\n",
      "31/12/2024  17:38    <DIR>          masks_hoods_custom_model_2\n",
      "31/12/2024  18:02    <DIR>          masks_hoods_custom_model_3\n",
      "31/12/2024  20:07    <DIR>          masks_hoods_custom_model_4\n",
      "30/12/2024  15:45             2,219 media_pipe_speedtest.py\n",
      "29/12/2024  19:10             1,305 media_pipe_test.py\n",
      "31/12/2024  14:19             3,079 mediapipe_hands_holding.py\n",
      "31/12/2024  14:20             2,484 mediapipe_hands_holding2.py\n",
      "30/12/2024  20:16             2,507 mediapipe_object_and_hands.py\n",
      "30/12/2024  15:58             1,215 opencv_eyes_test.py\n",
      "30/12/2024  15:49             1,229 opencv_face_recognition_test.py\n",
      "31/12/2024  19:30               934 relable_yolo_dataset.py\n",
      "29/12/2024  20:14    <DIR>          scrape_datasets\n",
      "31/12/2024  13:07    <DIR>          scrape_youtube\n",
      "30/12/2024  15:32             2,905 speed_monitor_test.py\n",
      "31/12/2024  20:17                12 tempCodeRunnerFile.py\n",
      "29/12/2024  19:30    <DIR>          test_images\n",
      "29/12/2024  19:27    <DIR>          test_results\n",
      "29/12/2024  19:13            15,803 testing_cv_snippets_and_notes.ipynb\n",
      "31/12/2024  20:37             2,283 train_faces.ipynb\n",
      "30/12/2024  15:04         5,613,764 yolo11n.pt\n",
      "30/12/2024  15:10             1,978 yolov11_camera_test.py\n",
      "30/12/2024  14:36               980 yolov11_test.py\n",
      "30/12/2024  14:39               980 yolov8_test.py\n",
      "29/12/2024  19:23         6,549,796 yolov8n.pt\n",
      "              21 File(s)     12,207,622 bytes\n",
      "              14 Dir(s)  60,820,611,072 bytes free\n"
     ]
    }
   ],
   "source": [
    "ls"
   ]
  },
  {
   "cell_type": "code",
   "execution_count": 12,
   "id": "064695b2-664d-4ef0-b282-97cb040d850e",
   "metadata": {},
   "outputs": [
    {
     "name": "stdout",
     "output_type": "stream",
     "text": [
      "Recognized: trump with confidence: 87.54378783065194\n"
     ]
    }
   ],
   "source": [
    "# Load LBPH recognizer\n",
    "recognizer = cv2.face.LBPHFaceRecognizer_create()\n",
    "recognizer.read(\"lbph_face_recognizer.yml\")\n",
    "\n",
    "test_image = cv2.imread(\"C:/Users/User/Downloads/donald-trump-political-violence-qa_feat.jpg\", cv2.IMREAD_GRAYSCALE)\n",
    "label, confidence = recognizer.predict(test_image)\n",
    "\n",
    "for name, id in label_map.items():\n",
    "    if label == id:\n",
    "        print(f\"Recognized: {name} with confidence: {confidence}\")\n",
    "        break\n"
   ]
  },
  {
   "cell_type": "code",
   "execution_count": 51,
   "id": "6648a41d-a829-4fc0-aded-d6f15a35e6b2",
   "metadata": {},
   "outputs": [],
   "source": [
    "import cv2\n",
    "\n",
    "# Load Haar cascade for face detection\n",
    "face_cascade = cv2.CascadeClassifier(cv2.data.haarcascades + \"haarcascade_frontalface_default.xml\")\n",
    "\n",
    "def detect_face(image_path):\n",
    "    \"\"\"Detects the face in an image and returns the cropped face.\"\"\"\n",
    "    image = cv2.imread(image_path)\n",
    "    gray = cv2.cvtColor(image, cv2.COLOR_BGR2GRAY)\n",
    "    start_time = time()\n",
    "    faces = face_cascade.detectMultiScale(gray, scaleFactor=1.3, minNeighbors=5, minSize=(50, 50))\n",
    "    end_time = time()\n",
    "    print(\"time spent identifying faces:   \", end_time - start_time)\n",
    "    if len(faces) == 0:\n",
    "        raise ValueError(\"No face detected in the image!\")\n",
    "\n",
    "    # Crop the first detected face\n",
    "    x, y, w, h = faces[0]\n",
    "    cropped_face = gray[y:y + h, x:x + w]\n",
    "    return cropped_face\n"
   ]
  },
  {
   "cell_type": "code",
   "execution_count": 48,
   "id": "f0199381-3947-4698-b3dc-15ac70d98512",
   "metadata": {},
   "outputs": [],
   "source": [
    "from time import time"
   ]
  },
  {
   "cell_type": "code",
   "execution_count": 24,
   "id": "96b591f2-d396-406c-b767-087c5902d793",
   "metadata": {},
   "outputs": [],
   "source": [
    "# Load LBPH recognizer\n",
    "recognizer = cv2.face.LBPHFaceRecognizer_create()\n",
    "recognizer.read(\"lbph_face_recognizer.yml\")"
   ]
  },
  {
   "cell_type": "code",
   "execution_count": 62,
   "id": "803d56e6-cd41-417d-a27e-454183fb671d",
   "metadata": {},
   "outputs": [
    {
     "name": "stdout",
     "output_type": "stream",
     "text": [
      "time spent identifying faces:    0.05979466438293457\n",
      "Recognized: trump with confidence: 64.94098637503595\n",
      "frame check time:  0.1874237060546875\n",
      "CPU times: total: 219 ms\n",
      "Wall time: 187 ms\n"
     ]
    }
   ],
   "source": [
    "%%time\n",
    "\n",
    "# Detect face and predict\n",
    "test_image_path = \"C:/Users/User/Downloads/donald-trump-political-violence-qa_feat.jpg\"\n",
    "start_time = time()\n",
    "face = detect_face(test_image_path)\n",
    "label, confidence = recognizer.predict(face)\n",
    "end_time = time()\n",
    "for name, id in label_map.items():\n",
    "    # Step 3: Handle unknown faces\n",
    "    if confidence < 60:\n",
    "        name = \"Unknown\"\n",
    "    if label == id:\n",
    "        print(f\"Recognized: {name} with confidence: {confidence}\")\n",
    "        break\n",
    "frame_end_time = time()\n",
    "\n",
    "print(\"frame check time: \",frame_end_time - start_time)"
   ]
  },
  {
   "cell_type": "code",
   "execution_count": 63,
   "id": "7062ccd6-c3a8-4a9c-b4ac-3732488a973e",
   "metadata": {},
   "outputs": [
    {
     "name": "stdout",
     "output_type": "stream",
     "text": [
      "time spent identifying faces:    0.04578423500061035\n",
      "Recognized: trump with confidence: 64.94098637503595\n",
      "frame check time:  0.18524551391601562\n"
     ]
    }
   ],
   "source": [
    "# Detect face and predict\n",
    "test_image_path = \"C:/Users/User/Downloads/donald-trump-political-violence-qa_feat.jpg\"\n",
    "start_time = time()\n",
    "face = detect_face(test_image_path)\n",
    "label, confidence = recognizer.predict(face)\n",
    "end_time = time()\n",
    "for name, id in label_map.items():\n",
    "    # Step 3: Handle unknown faces\n",
    "    if confidence < 60:\n",
    "        name = \"Unknown\"\n",
    "    if label == id:\n",
    "        print(f\"Recognized: {name} with confidence: {confidence}\")\n",
    "        break\n",
    "frame_end_time = time()\n",
    "\n",
    "print(\"frame check time: \",frame_end_time - start_time)"
   ]
  },
  {
   "cell_type": "code",
   "execution_count": 65,
   "id": "c982e8eb-87b5-4e65-b4b3-5de70bfd70e2",
   "metadata": {},
   "outputs": [
    {
     "name": "stdout",
     "output_type": "stream",
     "text": [
      "time spent identifying faces:    0.05198025703430176\n",
      "Recognized: Unknown with confidence: 54.784778377745944\n",
      "frame check time:  0.16557097434997559\n"
     ]
    }
   ],
   "source": [
    "# Detect face and predict\n",
    "test_image_path = \"C:/Users/User/Downloads/selma test.jpg\"\n",
    "start_time = time()\n",
    "face = detect_face(test_image_path)\n",
    "label, confidence = recognizer.predict(face)\n",
    "end_time = time()\n",
    "for name, id in label_map.items():\n",
    "    # Step 3: Handle unknown faces\n",
    "    if confidence < 60:\n",
    "        name = \"Unknown\"\n",
    "    if label == id:\n",
    "        print(f\"Recognized: {name} with confidence: {confidence}\")\n",
    "        break\n",
    "frame_end_time = time()\n",
    "\n",
    "print(\"frame check time: \",frame_end_time - start_time)"
   ]
  },
  {
   "cell_type": "code",
   "execution_count": null,
   "id": "e2639eca-cabe-49b5-b114-5aa4b8abfd21",
   "metadata": {},
   "outputs": [],
   "source": [
    "# Detect face and predict\n",
    "test_image_path = \"C:/Users/User/Downloads/donald-trump-political-violence-qa_feat.jpg\"\n",
    "start_time = time()\n",
    "face = detect_face(test_image_path)\n",
    "label, confidence = recognizer.predict(face)\n",
    "end_time = time()\n",
    "for name, id in label_map.items():\n",
    "    # Step 3: Handle unknown faces\n",
    "    if confidence < 40:\n",
    "        name = \"Unknown\"\n",
    "    if label == id:\n",
    "        print(f\"Recognized: {name} with confidence: {confidence}\")\n",
    "        break\n",
    "frame_end_time = time()\n",
    "\n",
    "print(\"frame check time: \",frame_end_time - start_time)"
   ]
  },
  {
   "cell_type": "code",
   "execution_count": null,
   "id": "20461e06-1b26-4900-bdf8-071c8fe6ee47",
   "metadata": {},
   "outputs": [],
   "source": []
  },
  {
   "cell_type": "code",
   "execution_count": null,
   "id": "3880a9aa-42fa-4ba4-a85d-a598ff30fef2",
   "metadata": {},
   "outputs": [],
   "source": []
  },
  {
   "cell_type": "markdown",
   "id": "ab56c11a-82c2-4ad0-8739-4bde8230e04f",
   "metadata": {},
   "source": [
    "### blazeglaze"
   ]
  },
  {
   "cell_type": "code",
   "execution_count": 66,
   "id": "579ebd9d-c38c-42c1-ac94-74cf0a2d4a34",
   "metadata": {},
   "outputs": [
    {
     "ename": "ImportError",
     "evalue": "DLL load failed while importing _framework_bindings: A dynamic link library (DLL) initialization routine failed.",
     "output_type": "error",
     "traceback": [
      "\u001b[1;31m---------------------------------------------------------------------------\u001b[0m",
      "\u001b[1;31mImportError\u001b[0m                               Traceback (most recent call last)",
      "Cell \u001b[1;32mIn[66], line 2\u001b[0m\n\u001b[0;32m      1\u001b[0m \u001b[38;5;28;01mimport\u001b[39;00m \u001b[38;5;21;01mcv2\u001b[39;00m\n\u001b[1;32m----> 2\u001b[0m \u001b[38;5;28;01mimport\u001b[39;00m \u001b[38;5;21;01mmediapipe\u001b[39;00m \u001b[38;5;28;01mas\u001b[39;00m \u001b[38;5;21;01mmp\u001b[39;00m\n\u001b[0;32m      3\u001b[0m \u001b[38;5;28;01mimport\u001b[39;00m \u001b[38;5;21;01mface_recognition\u001b[39;00m\n\u001b[0;32m      4\u001b[0m \u001b[38;5;28;01mimport\u001b[39;00m \u001b[38;5;21;01mos\u001b[39;00m\n",
      "File \u001b[1;32m~\\AppData\\Local\\Programs\\Python\\Python311\\Lib\\site-packages\\mediapipe\\__init__.py:15\u001b[0m\n\u001b[0;32m      1\u001b[0m \u001b[38;5;66;03m# Copyright 2019 - 2022 The MediaPipe Authors.\u001b[39;00m\n\u001b[0;32m      2\u001b[0m \u001b[38;5;66;03m#\u001b[39;00m\n\u001b[0;32m      3\u001b[0m \u001b[38;5;66;03m# Licensed under the Apache License, Version 2.0 (the \"License\");\u001b[39;00m\n\u001b[1;32m   (...)\u001b[0m\n\u001b[0;32m     12\u001b[0m \u001b[38;5;66;03m# See the License for the specific language governing permissions and\u001b[39;00m\n\u001b[0;32m     13\u001b[0m \u001b[38;5;66;03m# limitations under the License.\u001b[39;00m\n\u001b[1;32m---> 15\u001b[0m \u001b[38;5;28;01mfrom\u001b[39;00m \u001b[38;5;21;01mmediapipe\u001b[39;00m\u001b[38;5;21;01m.\u001b[39;00m\u001b[38;5;21;01mpython\u001b[39;00m \u001b[38;5;28;01mimport\u001b[39;00m \u001b[38;5;241m*\u001b[39m\n\u001b[0;32m     16\u001b[0m \u001b[38;5;28;01mimport\u001b[39;00m \u001b[38;5;21;01mmediapipe\u001b[39;00m\u001b[38;5;21;01m.\u001b[39;00m\u001b[38;5;21;01mpython\u001b[39;00m\u001b[38;5;21;01m.\u001b[39;00m\u001b[38;5;21;01msolutions\u001b[39;00m \u001b[38;5;28;01mas\u001b[39;00m \u001b[38;5;21;01msolutions\u001b[39;00m \n\u001b[0;32m     17\u001b[0m \u001b[38;5;28;01mimport\u001b[39;00m \u001b[38;5;21;01mmediapipe\u001b[39;00m\u001b[38;5;21;01m.\u001b[39;00m\u001b[38;5;21;01mtasks\u001b[39;00m\u001b[38;5;21;01m.\u001b[39;00m\u001b[38;5;21;01mpython\u001b[39;00m \u001b[38;5;28;01mas\u001b[39;00m \u001b[38;5;21;01mtasks\u001b[39;00m\n",
      "File \u001b[1;32m~\\AppData\\Local\\Programs\\Python\\Python311\\Lib\\site-packages\\mediapipe\\python\\__init__.py:17\u001b[0m\n\u001b[0;32m      1\u001b[0m \u001b[38;5;66;03m# Copyright 2020-2021 The MediaPipe Authors.\u001b[39;00m\n\u001b[0;32m      2\u001b[0m \u001b[38;5;66;03m#\u001b[39;00m\n\u001b[0;32m      3\u001b[0m \u001b[38;5;66;03m# Licensed under the Apache License, Version 2.0 (the \"License\");\u001b[39;00m\n\u001b[1;32m   (...)\u001b[0m\n\u001b[0;32m     12\u001b[0m \u001b[38;5;66;03m# See the License for the specific language governing permissions and\u001b[39;00m\n\u001b[0;32m     13\u001b[0m \u001b[38;5;66;03m# limitations under the License.\u001b[39;00m\n\u001b[0;32m     15\u001b[0m \u001b[38;5;124;03m\"\"\"MediaPipe Python API.\"\"\"\u001b[39;00m\n\u001b[1;32m---> 17\u001b[0m \u001b[38;5;28;01mfrom\u001b[39;00m \u001b[38;5;21;01mmediapipe\u001b[39;00m\u001b[38;5;21;01m.\u001b[39;00m\u001b[38;5;21;01mpython\u001b[39;00m\u001b[38;5;21;01m.\u001b[39;00m\u001b[38;5;21;01m_framework_bindings\u001b[39;00m \u001b[38;5;28;01mimport\u001b[39;00m model_ckpt_util\n\u001b[0;32m     18\u001b[0m \u001b[38;5;28;01mfrom\u001b[39;00m \u001b[38;5;21;01mmediapipe\u001b[39;00m\u001b[38;5;21;01m.\u001b[39;00m\u001b[38;5;21;01mpython\u001b[39;00m\u001b[38;5;21;01m.\u001b[39;00m\u001b[38;5;21;01m_framework_bindings\u001b[39;00m \u001b[38;5;28;01mimport\u001b[39;00m resource_util\n\u001b[0;32m     19\u001b[0m \u001b[38;5;28;01mfrom\u001b[39;00m \u001b[38;5;21;01mmediapipe\u001b[39;00m\u001b[38;5;21;01m.\u001b[39;00m\u001b[38;5;21;01mpython\u001b[39;00m\u001b[38;5;21;01m.\u001b[39;00m\u001b[38;5;21;01m_framework_bindings\u001b[39;00m\u001b[38;5;21;01m.\u001b[39;00m\u001b[38;5;21;01mcalculator_graph\u001b[39;00m \u001b[38;5;28;01mimport\u001b[39;00m CalculatorGraph\n",
      "\u001b[1;31mImportError\u001b[0m: DLL load failed while importing _framework_bindings: A dynamic link library (DLL) initialization routine failed."
     ]
    }
   ],
   "source": [
    "import cv2\n",
    "import mediapipe as mp\n",
    "import face_recognition\n",
    "import os\n",
    "\n",
    "# Initialize MediaPipe face detection\n",
    "mp_face_detection = mp.solutions.face_detection\n",
    "mp_drawing = mp.solutions.drawing_utils\n",
    "\n",
    "# Initialize face recognition encodings and labels\n",
    "known_face_encodings = []\n",
    "known_face_labels = []\n",
    "\n",
    "# Load and encode faces of people from multiple images\n",
    "def load_and_encode_faces_from_folder(folder_path, label):\n",
    "    for image_name in os.listdir(folder_path):\n",
    "        image_path = os.path.join(folder_path, image_name)\n",
    "        image = face_recognition.load_image_file(image_path)\n",
    "        face_encodings = face_recognition.face_encodings(image)\n",
    "        # Only add face encodings if a face was found\n",
    "        if face_encodings:\n",
    "            known_face_encodings.append(face_encodings[0])\n",
    "            known_face_labels.append(label)\n",
    "\n",
    "# Example: Load multiple images of Person A and Person B\n",
    "load_and_encode_faces_from_folder(\"scrape_youtube/face_images/trump\", \"Trump\")\n",
    "load_and_encode_faces_from_folder(\"scrape_youtube/face_images/ryan\", \"Ryan\")\n",
    "load_and_encode_faces_from_folder(\"scrape_youtube/face_images/obama\", \"Obama\")\n",
    "load_and_encode_faces_from_folder(\"scrape_youtube/face_images/ben\", \"Ben\")\n",
    "\n",
    "\n"
   ]
  },
  {
   "cell_type": "code",
   "execution_count": null,
   "id": "8c775816-028d-43b7-9f9f-5ad3b8e8a565",
   "metadata": {},
   "outputs": [],
   "source": [
    "# Initialize the webcam\n",
    "cap = cv2.VideoCapture(0)\n",
    "\n",
    "with mp_face_detection.FaceDetection(min_detection_confidence=0.2) as face_detection:\n",
    "    while cap.isOpened():\n",
    "        ret, frame = cap.read()\n",
    "        if not ret:\n",
    "            break\n",
    "\n",
    "        # Convert the image to RGB (required by face_recognition)\n",
    "        rgb_frame = cv2.cvtColor(frame, cv2.COLOR_BGR2RGB)\n",
    "\n",
    "        # Process the frame with the face detection model\n",
    "        results = face_detection.process(rgb_frame)\n",
    "\n",
    "        # If faces are detected, process them\n",
    "        if results.detections:\n",
    "            for detection in results.detections:\n",
    "                # Get bounding box coordinates\n",
    "                bboxC = detection.location_data.relative_bounding_box\n",
    "                ih, iw, _ = frame.shape\n",
    "                x, y, w, h = int(bboxC.xmin * iw), int(bboxC.ymin * ih), int(bboxC.width * iw), int(bboxC.height * ih)\n",
    "\n",
    "                # Crop the detected face\n",
    "                face = frame[y:y+h, x:x+w]\n",
    "\n",
    "                # Encode the detected face\n",
    "                face_encoding = face_recognition.face_encodings(face)\n",
    "                if face_encoding:\n",
    "                    face_encoding = face_encoding[0]\n",
    "\n",
    "                    # Compare with known faces\n",
    "                    matches = face_recognition.compare_faces(known_face_encodings, face_encoding)\n",
    "                    name = \"Unknown\"\n",
    "\n",
    "                    if True in matches:\n",
    "                        first_match_index = matches.index(True)\n",
    "                        name = known_face_labels[first_match_index]\n",
    "\n",
    "                    # Draw the bounding box and label\n",
    "                    cv2.rectangle(frame, (x, y), (x + w, y + h), (0, 255, 0), 2)\n",
    "                    cv2.putText(frame, name, (x, y - 10), cv2.FONT_HERSHEY_SIMPLEX, 1, (0, 255, 0), 2)\n",
    "\n",
    "        # Show the frame with face recognition results\n",
    "        cv2.imshow(\"BlazeFace + Face Recognition\", frame)\n",
    "\n",
    "        # Exit when 'q' is pressed\n",
    "        if cv2.waitKey(1) & 0xFF == ord('q'):\n",
    "            break\n",
    "\n",
    "    cap.release()\n",
    "    cv2.destroyAllWindows()"
   ]
  }
 ],
 "metadata": {
  "kernelspec": {
   "display_name": "Python 3 (ipykernel)",
   "language": "python",
   "name": "python3"
  },
  "language_info": {
   "codemirror_mode": {
    "name": "ipython",
    "version": 3
   },
   "file_extension": ".py",
   "mimetype": "text/x-python",
   "name": "python",
   "nbconvert_exporter": "python",
   "pygments_lexer": "ipython3",
   "version": "3.11.0"
  }
 },
 "nbformat": 4,
 "nbformat_minor": 5
}
